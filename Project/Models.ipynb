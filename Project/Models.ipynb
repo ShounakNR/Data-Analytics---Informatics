{
 "cells": [
  {
   "cell_type": "code",
   "execution_count": 35,
   "metadata": {},
   "outputs": [],
   "source": [
    "import pandas as pd\n",
    "import numpy as np\n",
    "import random\n",
    "from sklearn.model_selection import train_test_split, KFold, RandomizedSearchCV\n",
    "from sklearn.linear_model import RidgeClassifier,LogisticRegression\n",
    "from sklearn.preprocessing import PolynomialFeatures, LabelEncoder, StandardScaler\n",
    "from sklearn.neighbors import KNeighborsClassifier\n",
    "from sklearn.metrics import accuracy_score, confusion_matrix, classification_report\n",
    "from sklearn.ensemble import RandomForestClassifier,GradientBoostingClassifier\n",
    "from sklearn.decomposition import PCA\n",
    "from scipy.special import expit\n",
    "from sklearn.neural_network import MLPClassifier\n",
    "\n",
    "import matplotlib.pyplot as plt\n",
    "import seaborn as sn"
   ]
  },
  {
   "cell_type": "code",
   "execution_count": 2,
   "metadata": {},
   "outputs": [],
   "source": [
    "df = pd.read_csv('DataFiles/combined1.csv')\n",
    "# read in the combined1.csv file made in the preprocessing stage\n",
    "\n",
    "# df = pd.read_csv('combined1.csv') #uncomment this to run this in your computer"
   ]
  },
  {
   "cell_type": "code",
   "execution_count": 3,
   "metadata": {},
   "outputs": [
    {
     "data": {
      "text/plain": [
       "Index(['game_id', 'posteam', 'defteam', 'yardline_100', 'game_date',\n",
       "       'quarter_seconds_remaining', 'half_seconds_remaining',\n",
       "       'game_seconds_remaining', 'qtr', 'down', 'ydstogo', 'play_type',\n",
       "       'yards_gained', 'shotgun', 'no_huddle', 'score_differential',\n",
       "       'rush_attempt', 'pass_attempt', 'Field_Goal_Range', 'first_down_dis',\n",
       "       'encoded_plays', 'encoded_off_teams', 'encoded_def_teams'],\n",
       "      dtype='object')"
      ]
     },
     "execution_count": 3,
     "metadata": {},
     "output_type": "execute_result"
    }
   ],
   "source": [
    "df.columns"
   ]
  },
  {
   "cell_type": "markdown",
   "metadata": {},
   "source": [
    "## BASELINE MODEL PREDICTS PASS EVERYTIME"
   ]
  },
  {
   "cell_type": "code",
   "execution_count": 4,
   "metadata": {},
   "outputs": [
    {
     "data": {
      "text/plain": [
       "pass    59.141491\n",
       "run     40.858509\n",
       "Name: play_type, dtype: float64"
      ]
     },
     "execution_count": 4,
     "metadata": {},
     "output_type": "execute_result"
    }
   ],
   "source": [
    "df['play_type'].value_counts(normalize=True)*100"
   ]
  },
  {
   "cell_type": "markdown",
   "metadata": {},
   "source": [
    "Has 59% accuracy at the time\n"
   ]
  },
  {
   "cell_type": "code",
   "execution_count": 5,
   "metadata": {},
   "outputs": [],
   "source": [
    "y_pred_baseline = []\n",
    "for i in range(df.shape[0]):\n",
    "    y_pred_baseline.append(1)\n",
    "# predict a pass play every time"
   ]
  },
  {
   "cell_type": "code",
   "execution_count": 7,
   "metadata": {},
   "outputs": [
    {
     "data": {
      "text/html": [
       "<div>\n",
       "<style scoped>\n",
       "    .dataframe tbody tr th:only-of-type {\n",
       "        vertical-align: middle;\n",
       "    }\n",
       "\n",
       "    .dataframe tbody tr th {\n",
       "        vertical-align: top;\n",
       "    }\n",
       "\n",
       "    .dataframe thead th {\n",
       "        text-align: right;\n",
       "    }\n",
       "</style>\n",
       "<table border=\"1\" class=\"dataframe\">\n",
       "  <thead>\n",
       "    <tr style=\"text-align: right;\">\n",
       "      <th></th>\n",
       "      <th>yardline_100</th>\n",
       "      <th>quarter_seconds_remaining</th>\n",
       "      <th>half_seconds_remaining</th>\n",
       "      <th>game_seconds_remaining</th>\n",
       "      <th>qtr</th>\n",
       "      <th>down</th>\n",
       "      <th>shotgun</th>\n",
       "      <th>no_huddle</th>\n",
       "      <th>score_differential</th>\n",
       "      <th>Field_Goal_Range</th>\n",
       "      <th>first_down_dis</th>\n",
       "      <th>encoded_off_teams</th>\n",
       "      <th>encoded_def_teams</th>\n",
       "    </tr>\n",
       "  </thead>\n",
       "  <tbody>\n",
       "    <tr>\n",
       "      <th>0</th>\n",
       "      <td>87.0</td>\n",
       "      <td>896.0</td>\n",
       "      <td>1796.0</td>\n",
       "      <td>3596.0</td>\n",
       "      <td>1</td>\n",
       "      <td>1.0</td>\n",
       "      <td>0</td>\n",
       "      <td>0</td>\n",
       "      <td>0.0</td>\n",
       "      <td>4</td>\n",
       "      <td>3</td>\n",
       "      <td>11</td>\n",
       "      <td>27</td>\n",
       "    </tr>\n",
       "    <tr>\n",
       "      <th>1</th>\n",
       "      <td>76.0</td>\n",
       "      <td>851.0</td>\n",
       "      <td>1751.0</td>\n",
       "      <td>3551.0</td>\n",
       "      <td>1</td>\n",
       "      <td>1.0</td>\n",
       "      <td>1</td>\n",
       "      <td>0</td>\n",
       "      <td>0.0</td>\n",
       "      <td>4</td>\n",
       "      <td>3</td>\n",
       "      <td>11</td>\n",
       "      <td>27</td>\n",
       "    </tr>\n",
       "    <tr>\n",
       "      <th>2</th>\n",
       "      <td>61.0</td>\n",
       "      <td>812.0</td>\n",
       "      <td>1712.0</td>\n",
       "      <td>3512.0</td>\n",
       "      <td>1</td>\n",
       "      <td>1.0</td>\n",
       "      <td>0</td>\n",
       "      <td>1</td>\n",
       "      <td>0.0</td>\n",
       "      <td>4</td>\n",
       "      <td>3</td>\n",
       "      <td>11</td>\n",
       "      <td>27</td>\n",
       "    </tr>\n",
       "    <tr>\n",
       "      <th>3</th>\n",
       "      <td>59.0</td>\n",
       "      <td>786.0</td>\n",
       "      <td>1686.0</td>\n",
       "      <td>3486.0</td>\n",
       "      <td>1</td>\n",
       "      <td>2.0</td>\n",
       "      <td>1</td>\n",
       "      <td>0</td>\n",
       "      <td>0.0</td>\n",
       "      <td>4</td>\n",
       "      <td>2</td>\n",
       "      <td>11</td>\n",
       "      <td>27</td>\n",
       "    </tr>\n",
       "    <tr>\n",
       "      <th>4</th>\n",
       "      <td>61.0</td>\n",
       "      <td>750.0</td>\n",
       "      <td>1650.0</td>\n",
       "      <td>3450.0</td>\n",
       "      <td>1</td>\n",
       "      <td>3.0</td>\n",
       "      <td>1</td>\n",
       "      <td>0</td>\n",
       "      <td>0.0</td>\n",
       "      <td>4</td>\n",
       "      <td>3</td>\n",
       "      <td>11</td>\n",
       "      <td>27</td>\n",
       "    </tr>\n",
       "    <tr>\n",
       "      <th>...</th>\n",
       "      <td>...</td>\n",
       "      <td>...</td>\n",
       "      <td>...</td>\n",
       "      <td>...</td>\n",
       "      <td>...</td>\n",
       "      <td>...</td>\n",
       "      <td>...</td>\n",
       "      <td>...</td>\n",
       "      <td>...</td>\n",
       "      <td>...</td>\n",
       "      <td>...</td>\n",
       "      <td>...</td>\n",
       "      <td>...</td>\n",
       "    </tr>\n",
       "    <tr>\n",
       "      <th>158153</th>\n",
       "      <td>71.0</td>\n",
       "      <td>82.0</td>\n",
       "      <td>82.0</td>\n",
       "      <td>82.0</td>\n",
       "      <td>4</td>\n",
       "      <td>2.0</td>\n",
       "      <td>1</td>\n",
       "      <td>1</td>\n",
       "      <td>-5.0</td>\n",
       "      <td>4</td>\n",
       "      <td>1</td>\n",
       "      <td>4</td>\n",
       "      <td>21</td>\n",
       "    </tr>\n",
       "    <tr>\n",
       "      <th>158154</th>\n",
       "      <td>71.0</td>\n",
       "      <td>77.0</td>\n",
       "      <td>77.0</td>\n",
       "      <td>77.0</td>\n",
       "      <td>4</td>\n",
       "      <td>3.0</td>\n",
       "      <td>1</td>\n",
       "      <td>0</td>\n",
       "      <td>-5.0</td>\n",
       "      <td>4</td>\n",
       "      <td>1</td>\n",
       "      <td>4</td>\n",
       "      <td>21</td>\n",
       "    </tr>\n",
       "    <tr>\n",
       "      <th>158155</th>\n",
       "      <td>66.0</td>\n",
       "      <td>63.0</td>\n",
       "      <td>63.0</td>\n",
       "      <td>63.0</td>\n",
       "      <td>4</td>\n",
       "      <td>2.0</td>\n",
       "      <td>1</td>\n",
       "      <td>0</td>\n",
       "      <td>-5.0</td>\n",
       "      <td>4</td>\n",
       "      <td>3</td>\n",
       "      <td>4</td>\n",
       "      <td>21</td>\n",
       "    </tr>\n",
       "    <tr>\n",
       "      <th>158156</th>\n",
       "      <td>66.0</td>\n",
       "      <td>58.0</td>\n",
       "      <td>58.0</td>\n",
       "      <td>58.0</td>\n",
       "      <td>4</td>\n",
       "      <td>3.0</td>\n",
       "      <td>1</td>\n",
       "      <td>0</td>\n",
       "      <td>-5.0</td>\n",
       "      <td>4</td>\n",
       "      <td>3</td>\n",
       "      <td>4</td>\n",
       "      <td>21</td>\n",
       "    </tr>\n",
       "    <tr>\n",
       "      <th>158157</th>\n",
       "      <td>61.0</td>\n",
       "      <td>38.0</td>\n",
       "      <td>38.0</td>\n",
       "      <td>38.0</td>\n",
       "      <td>4</td>\n",
       "      <td>4.0</td>\n",
       "      <td>1</td>\n",
       "      <td>1</td>\n",
       "      <td>-5.0</td>\n",
       "      <td>4</td>\n",
       "      <td>2</td>\n",
       "      <td>4</td>\n",
       "      <td>21</td>\n",
       "    </tr>\n",
       "  </tbody>\n",
       "</table>\n",
       "<p>158158 rows × 13 columns</p>\n",
       "</div>"
      ],
      "text/plain": [
       "        yardline_100  quarter_seconds_remaining  half_seconds_remaining  \\\n",
       "0               87.0                      896.0                  1796.0   \n",
       "1               76.0                      851.0                  1751.0   \n",
       "2               61.0                      812.0                  1712.0   \n",
       "3               59.0                      786.0                  1686.0   \n",
       "4               61.0                      750.0                  1650.0   \n",
       "...              ...                        ...                     ...   \n",
       "158153          71.0                       82.0                    82.0   \n",
       "158154          71.0                       77.0                    77.0   \n",
       "158155          66.0                       63.0                    63.0   \n",
       "158156          66.0                       58.0                    58.0   \n",
       "158157          61.0                       38.0                    38.0   \n",
       "\n",
       "        game_seconds_remaining  qtr  down  shotgun  no_huddle  \\\n",
       "0                       3596.0    1   1.0        0          0   \n",
       "1                       3551.0    1   1.0        1          0   \n",
       "2                       3512.0    1   1.0        0          1   \n",
       "3                       3486.0    1   2.0        1          0   \n",
       "4                       3450.0    1   3.0        1          0   \n",
       "...                        ...  ...   ...      ...        ...   \n",
       "158153                    82.0    4   2.0        1          1   \n",
       "158154                    77.0    4   3.0        1          0   \n",
       "158155                    63.0    4   2.0        1          0   \n",
       "158156                    58.0    4   3.0        1          0   \n",
       "158157                    38.0    4   4.0        1          1   \n",
       "\n",
       "        score_differential  Field_Goal_Range  first_down_dis  \\\n",
       "0                      0.0                 4               3   \n",
       "1                      0.0                 4               3   \n",
       "2                      0.0                 4               3   \n",
       "3                      0.0                 4               2   \n",
       "4                      0.0                 4               3   \n",
       "...                    ...               ...             ...   \n",
       "158153                -5.0                 4               1   \n",
       "158154                -5.0                 4               1   \n",
       "158155                -5.0                 4               3   \n",
       "158156                -5.0                 4               3   \n",
       "158157                -5.0                 4               2   \n",
       "\n",
       "        encoded_off_teams  encoded_def_teams  \n",
       "0                      11                 27  \n",
       "1                      11                 27  \n",
       "2                      11                 27  \n",
       "3                      11                 27  \n",
       "4                      11                 27  \n",
       "...                   ...                ...  \n",
       "158153                  4                 21  \n",
       "158154                  4                 21  \n",
       "158155                  4                 21  \n",
       "158156                  4                 21  \n",
       "158157                  4                 21  \n",
       "\n",
       "[158158 rows x 13 columns]"
      ]
     },
     "execution_count": 7,
     "metadata": {},
     "output_type": "execute_result"
    }
   ],
   "source": [
    "X =  df.drop(['play_type','yards_gained','encoded_plays','game_id','posteam','defteam','game_date','rush_attempt','pass_attempt','ydstogo'],1)\n",
    "Y = df['encoded_plays']\n",
    "y_actual = list(Y)\n",
    "X"
   ]
  },
  {
   "cell_type": "code",
   "execution_count": 8,
   "metadata": {},
   "outputs": [
    {
     "name": "stdout",
     "output_type": "stream",
     "text": [
      "0 64621 0 93537\n"
     ]
    }
   ],
   "source": [
    "tn, fp, fn, tp = confusion_matrix(y_actual, y_pred_baseline).ravel()\n",
    "print(tn, fp, fn, tp)"
   ]
  },
  {
   "cell_type": "code",
   "execution_count": 9,
   "metadata": {},
   "outputs": [
    {
     "name": "stdout",
     "output_type": "stream",
     "text": [
      "              precision    recall  f1-score   support\n",
      "\n",
      "           0       0.00      0.00      0.00     64621\n",
      "           1       0.59      1.00      0.74     93537\n",
      "\n",
      "    accuracy                           0.59    158158\n",
      "   macro avg       0.30      0.50      0.37    158158\n",
      "weighted avg       0.35      0.59      0.44    158158\n",
      "\n"
     ]
    },
    {
     "name": "stderr",
     "output_type": "stream",
     "text": [
      "/Users/shounakrangwala/opt/anaconda3/lib/python3.8/site-packages/sklearn/metrics/_classification.py:1221: UndefinedMetricWarning: Precision and F-score are ill-defined and being set to 0.0 in labels with no predicted samples. Use `zero_division` parameter to control this behavior.\n",
      "  _warn_prf(average, modifier, msg_start, len(result))\n"
     ]
    }
   ],
   "source": [
    "print(classification_report(y_actual,y_pred_baseline))"
   ]
  },
  {
   "cell_type": "code",
   "execution_count": 10,
   "metadata": {},
   "outputs": [],
   "source": [
    "x_train,x_test,y_train,y_test = train_test_split(X,Y,test_size = 0.2)"
   ]
  },
  {
   "cell_type": "code",
   "execution_count": 11,
   "metadata": {},
   "outputs": [],
   "source": [
    "scaled = StandardScaler().fit(x_train)\n",
    "x_train = scaled.transform(x_train)\n",
    "x_test  =scaled.transform(x_test)"
   ]
  },
  {
   "cell_type": "code",
   "execution_count": 13,
   "metadata": {},
   "outputs": [
    {
     "data": {
      "text/plain": [
       "(126526, 13)"
      ]
     },
     "execution_count": 13,
     "metadata": {},
     "output_type": "execute_result"
    }
   ],
   "source": [
    "x_train.shape"
   ]
  },
  {
   "cell_type": "markdown",
   "metadata": {},
   "source": [
    "## LOGISTIC REGRESSION"
   ]
  },
  {
   "cell_type": "code",
   "execution_count": 14,
   "metadata": {},
   "outputs": [],
   "source": [
    "Log_Reg = LogisticRegression(max_iter = 10000).fit(x_train,y_train)\n"
   ]
  },
  {
   "cell_type": "code",
   "execution_count": 15,
   "metadata": {},
   "outputs": [
    {
     "data": {
      "text/plain": [
       "array([0, 1])"
      ]
     },
     "execution_count": 15,
     "metadata": {},
     "output_type": "execute_result"
    }
   ],
   "source": [
    "Log_Reg.classes_"
   ]
  },
  {
   "cell_type": "code",
   "execution_count": 16,
   "metadata": {},
   "outputs": [],
   "source": [
    "log_reg_pred = Log_Reg.predict(x_test)"
   ]
  },
  {
   "cell_type": "code",
   "execution_count": 17,
   "metadata": {},
   "outputs": [
    {
     "name": "stdout",
     "output_type": "stream",
     "text": [
      "              precision    recall  f1-score   support\n",
      "\n",
      "           0       0.67      0.61      0.64     12840\n",
      "           1       0.75      0.79      0.77     18792\n",
      "\n",
      "    accuracy                           0.72     31632\n",
      "   macro avg       0.71      0.70      0.71     31632\n",
      "weighted avg       0.72      0.72      0.72     31632\n",
      "\n"
     ]
    }
   ],
   "source": [
    "print(classification_report(y_test, log_reg_pred))"
   ]
  },
  {
   "cell_type": "code",
   "execution_count": 18,
   "metadata": {},
   "outputs": [
    {
     "name": "stdout",
     "output_type": "stream",
     "text": [
      "0.720030349013657\n"
     ]
    }
   ],
   "source": [
    "print(accuracy_score(y_test,log_reg_pred))"
   ]
  },
  {
   "cell_type": "markdown",
   "metadata": {},
   "source": [
    "### Finding the best parameters"
   ]
  },
  {
   "cell_type": "code",
   "execution_count": 19,
   "metadata": {},
   "outputs": [
    {
     "name": "stdout",
     "output_type": "stream",
     "text": [
      "Fitting 10 folds for each of 1 candidates, totalling 10 fits\n"
     ]
    },
    {
     "name": "stderr",
     "output_type": "stream",
     "text": [
      "[Parallel(n_jobs=-1)]: Using backend LokyBackend with 4 concurrent workers.\n",
      "[Parallel(n_jobs=-1)]: Done   7 out of  10 | elapsed:    5.8s remaining:    2.5s\n",
      "[Parallel(n_jobs=-1)]: Done  10 out of  10 | elapsed:    6.6s finished\n"
     ]
    },
    {
     "data": {
      "text/plain": [
       "RandomizedSearchCV(cv=KFold(n_splits=10, random_state=None, shuffle=False),\n",
       "                   error_score=0, estimator=LogisticRegression(), n_iter=1,\n",
       "                   n_jobs=-1,\n",
       "                   param_distributions={'max_iter': [1000, 5000, 10000, 20000],\n",
       "                                        'penalty': ['l1', 'l2'],\n",
       "                                        'solver': ['newton-cg', 'sag',\n",
       "                                                   'lbfgs']},\n",
       "                   scoring='recall', verbose=3)"
      ]
     },
     "execution_count": 19,
     "metadata": {},
     "output_type": "execute_result"
    }
   ],
   "source": [
    "clf_LR = LogisticRegression()\n",
    "parameters = {'penalty': ['l1','l2'],\n",
    "              'solver': ['newton-cg','sag','lbfgs'],\n",
    "              'max_iter': [1000,5000,10000,20000]\n",
    "             }\n",
    "Folds = 10\n",
    "kfold_10 = KFold(n_splits= Folds, shuffle = False)\n",
    "\n",
    "clf = RandomizedSearchCV(clf_LR, \n",
    "                         param_distributions = parameters,\n",
    "                         cv = kfold_10,  \n",
    "                         n_iter = 1,\n",
    "                         scoring = 'recall', \n",
    "                         error_score = 0, \n",
    "                         verbose = 3, \n",
    "                         n_jobs = -1)\n",
    "\n",
    "clf.fit(x_train, y_train)"
   ]
  },
  {
   "cell_type": "code",
   "execution_count": 20,
   "metadata": {},
   "outputs": [
    {
     "name": "stdout",
     "output_type": "stream",
     "text": [
      "              precision    recall  f1-score   support\n",
      "\n",
      "           0       0.67      0.61      0.64     12840\n",
      "           1       0.75      0.79      0.77     18792\n",
      "\n",
      "    accuracy                           0.72     31632\n",
      "   macro avg       0.71      0.70      0.71     31632\n",
      "weighted avg       0.72      0.72      0.72     31632\n",
      "\n"
     ]
    }
   ],
   "source": [
    "y_pred = clf.predict(x_test)\n",
    "print(classification_report(y_test,y_pred))"
   ]
  },
  {
   "cell_type": "code",
   "execution_count": 21,
   "metadata": {},
   "outputs": [
    {
     "data": {
      "text/plain": [
       "LogisticRegression(max_iter=10000, solver='newton-cg')"
      ]
     },
     "execution_count": 21,
     "metadata": {},
     "output_type": "execute_result"
    }
   ],
   "source": [
    "clf.best_estimator_"
   ]
  },
  {
   "cell_type": "markdown",
   "metadata": {},
   "source": [
    "## LOGISTIC REGRESSION WITH RIDGE CLASSIFIER"
   ]
  },
  {
   "cell_type": "code",
   "execution_count": 55,
   "metadata": {},
   "outputs": [],
   "source": [
    "Ridge_Reg = RidgeClassifier(normalize = True,solver='lsqr').fit(x_train,y_train)"
   ]
  },
  {
   "cell_type": "code",
   "execution_count": 56,
   "metadata": {},
   "outputs": [],
   "source": [
    "ridge_pred = Ridge_Reg.predict(x_test)"
   ]
  },
  {
   "cell_type": "code",
   "execution_count": 57,
   "metadata": {},
   "outputs": [
    {
     "name": "stdout",
     "output_type": "stream",
     "text": [
      "              precision    recall  f1-score   support\n",
      "\n",
      "           0       0.67      0.56      0.61     12840\n",
      "           1       0.73      0.81      0.77     18792\n",
      "\n",
      "    accuracy                           0.71     31632\n",
      "   macro avg       0.70      0.69      0.69     31632\n",
      "weighted avg       0.71      0.71      0.71     31632\n",
      "\n"
     ]
    }
   ],
   "source": [
    "print(classification_report(y_test, ridge_pred))"
   ]
  },
  {
   "cell_type": "code",
   "execution_count": 58,
   "metadata": {},
   "outputs": [
    {
     "name": "stdout",
     "output_type": "stream",
     "text": [
      "0.7106727364693981\n"
     ]
    }
   ],
   "source": [
    "print(accuracy_score(y_test,ridge_pred))"
   ]
  },
  {
   "cell_type": "markdown",
   "metadata": {},
   "source": [
    "### Finding best paramemters"
   ]
  },
  {
   "cell_type": "code",
   "execution_count": 77,
   "metadata": {},
   "outputs": [
    {
     "name": "stdout",
     "output_type": "stream",
     "text": [
      "Fitting 10 folds for each of 1 candidates, totalling 10 fits\n"
     ]
    },
    {
     "name": "stderr",
     "output_type": "stream",
     "text": [
      "[Parallel(n_jobs=-1)]: Using backend LokyBackend with 4 concurrent workers.\n",
      "[Parallel(n_jobs=-1)]: Done   7 out of  10 | elapsed:    5.3s remaining:    2.3s\n",
      "[Parallel(n_jobs=-1)]: Done  10 out of  10 | elapsed:    7.1s finished\n"
     ]
    },
    {
     "data": {
      "text/plain": [
       "RandomizedSearchCV(cv=KFold(n_splits=10, random_state=None, shuffle=False),\n",
       "                   error_score=0, estimator=RidgeClassifier(), n_iter=1,\n",
       "                   n_jobs=-1,\n",
       "                   param_distributions={'alpha': [1.0, 2.5, 1.5, 0.1, 5.0],\n",
       "                                        'max_iter': [1000, 5000, 10000, 20000],\n",
       "                                        'solver': ['svd', 'sag', 'sparse_cg',\n",
       "                                                   'lsqr']},\n",
       "                   scoring='recall', verbose=3)"
      ]
     },
     "execution_count": 77,
     "metadata": {},
     "output_type": "execute_result"
    }
   ],
   "source": [
    "clf_RR = RidgeClassifier()\n",
    "parameters = {'alpha': [1.0,2.5,1.5,0.1,5.0],\n",
    "              'solver': ['svd','sag','sparse_cg','lsqr'],\n",
    "              'max_iter': [1000,5000,10000,20000]\n",
    "             }\n",
    "Folds = 10\n",
    "kfold_10 = KFold(n_splits= Folds, shuffle = False)\n",
    "\n",
    "clf = RandomizedSearchCV(clf_RR, \n",
    "                         param_distributions = parameters,\n",
    "                         cv = kfold_10,  \n",
    "                         n_iter = 1,\n",
    "                         scoring = 'recall', \n",
    "                         error_score = 0, \n",
    "                         verbose = 3, \n",
    "                         n_jobs = -1)\n",
    "\n",
    "clf.fit(x_train, y_train)"
   ]
  },
  {
   "cell_type": "code",
   "execution_count": 78,
   "metadata": {},
   "outputs": [
    {
     "name": "stdout",
     "output_type": "stream",
     "text": [
      "              precision    recall  f1-score   support\n",
      "\n",
      "           0       0.67      0.62      0.65     12840\n",
      "           1       0.75      0.79      0.77     18792\n",
      "\n",
      "    accuracy                           0.72     31632\n",
      "   macro avg       0.71      0.71      0.71     31632\n",
      "weighted avg       0.72      0.72      0.72     31632\n",
      "\n"
     ]
    }
   ],
   "source": [
    "y_pred = clf.predict(x_test)\n",
    "print(classification_report(y_test,y_pred))"
   ]
  },
  {
   "cell_type": "code",
   "execution_count": 79,
   "metadata": {},
   "outputs": [
    {
     "data": {
      "text/plain": [
       "RidgeClassifier(alpha=5.0, max_iter=20000, solver='sag')"
      ]
     },
     "execution_count": 79,
     "metadata": {},
     "output_type": "execute_result"
    }
   ],
   "source": [
    "clf.best_estimator_"
   ]
  },
  {
   "cell_type": "markdown",
   "metadata": {},
   "source": [
    "## NEURAL NETWORK (PERCEPTRON)"
   ]
  },
  {
   "cell_type": "code",
   "execution_count": 37,
   "metadata": {},
   "outputs": [
    {
     "name": "stderr",
     "output_type": "stream",
     "text": [
      "/Users/shounakrangwala/opt/anaconda3/lib/python3.8/site-packages/sklearn/neural_network/_multilayer_perceptron.py:587: UserWarning: Training interrupted by user.\n",
      "  warnings.warn(\"Training interrupted by user.\")\n"
     ]
    }
   ],
   "source": [
    "perceptron = MLPClassifier().fit(x_train,y_train)"
   ]
  },
  {
   "cell_type": "code",
   "execution_count": 76,
   "metadata": {},
   "outputs": [],
   "source": [
    "per_pred = perceptron.predict(x_test)"
   ]
  },
  {
   "cell_type": "code",
   "execution_count": 77,
   "metadata": {},
   "outputs": [
    {
     "name": "stdout",
     "output_type": "stream",
     "text": [
      "              precision    recall  f1-score   support\n",
      "\n",
      "           0       0.67      0.63      0.65     12879\n",
      "           1       0.76      0.79      0.77     18753\n",
      "\n",
      "    accuracy                           0.73     31632\n",
      "   macro avg       0.72      0.71      0.71     31632\n",
      "weighted avg       0.72      0.73      0.72     31632\n",
      "\n"
     ]
    }
   ],
   "source": [
    "print(classification_report(y_test, per_pred))"
   ]
  },
  {
   "cell_type": "code",
   "execution_count": 78,
   "metadata": {},
   "outputs": [
    {
     "name": "stdout",
     "output_type": "stream",
     "text": [
      "0.7261001517450683\n"
     ]
    }
   ],
   "source": [
    "print(accuracy_score(y_test,per_pred))"
   ]
  },
  {
   "cell_type": "code",
   "execution_count": 79,
   "metadata": {},
   "outputs": [
    {
     "name": "stdout",
     "output_type": "stream",
     "text": [
      "Fitting 10 folds for each of 1 candidates, totalling 10 fits\n"
     ]
    },
    {
     "name": "stderr",
     "output_type": "stream",
     "text": [
      "[Parallel(n_jobs=-1)]: Using backend LokyBackend with 4 concurrent workers.\n",
      "[Parallel(n_jobs=-1)]: Done   7 out of  10 | elapsed:  8.1min remaining:  3.5min\n",
      "[Parallel(n_jobs=-1)]: Done  10 out of  10 | elapsed: 11.2min finished\n"
     ]
    },
    {
     "data": {
      "text/plain": [
       "RandomizedSearchCV(cv=KFold(n_splits=10, random_state=None, shuffle=False),\n",
       "                   error_score=0, estimator=MLPClassifier(), n_iter=1,\n",
       "                   n_jobs=-1,\n",
       "                   param_distributions={'activation': ['tanh', 'relu'],\n",
       "                                        'alpha': [0.0001, 0.001, 0.01, 0.1],\n",
       "                                        'batch_size': [100, 1000, 10000],\n",
       "                                        'hidden_layer_sizes': [(20, 50, 30),\n",
       "                                                               (50, 100, 50),\n",
       "                                                               (28, 50, 30, 14),\n",
       "                                                               (100,)],\n",
       "                                        'learning_rate': ['constant',\n",
       "                                                          'adaptive'],\n",
       "                                        'solver': ['lbfgs', 'sgd']},\n",
       "                   scoring='recall', verbose=3)"
      ]
     },
     "execution_count": 79,
     "metadata": {},
     "output_type": "execute_result"
    }
   ],
   "source": [
    "clf_NN = MLPClassifier()\n",
    "parameters = {'alpha': [0.0001,0.001,0.01,0.1],\n",
    "              'solver': ['lbfgs','sgd'],\n",
    "              'hidden_layer_sizes': [(20,50,30),(50,100,50),(28,50,30,14),(100,)],\n",
    "              'activation':['tanh','relu'],\n",
    "              'batch_size':[100,1000,10000],\n",
    "              'learning_rate':['constant','adaptive']\n",
    "             }\n",
    "Folds = 10\n",
    "kfold_10 = KFold(n_splits= Folds, shuffle = False)\n",
    "\n",
    "clf = RandomizedSearchCV(clf_NN, \n",
    "                         param_distributions = parameters,\n",
    "                         cv = kfold_10,  \n",
    "                         n_iter = 1,\n",
    "                         scoring = 'recall', \n",
    "                         error_score = 0, \n",
    "                         verbose = 3, \n",
    "                         n_jobs = -1)\n",
    "\n",
    "clf.fit(x_train, y_train)"
   ]
  },
  {
   "cell_type": "code",
   "execution_count": 80,
   "metadata": {},
   "outputs": [
    {
     "name": "stdout",
     "output_type": "stream",
     "text": [
      "              precision    recall  f1-score   support\n",
      "\n",
      "           0       0.66      0.65      0.66     12879\n",
      "           1       0.76      0.78      0.77     18753\n",
      "\n",
      "    accuracy                           0.72     31632\n",
      "   macro avg       0.71      0.71      0.71     31632\n",
      "weighted avg       0.72      0.72      0.72     31632\n",
      "\n"
     ]
    },
    {
     "data": {
      "text/plain": [
       "MLPClassifier(batch_size=1000, hidden_layer_sizes=(50, 100, 50), solver='sgd')"
      ]
     },
     "execution_count": 80,
     "metadata": {},
     "output_type": "execute_result"
    }
   ],
   "source": [
    "y_pred = clf.predict(x_test)\n",
    "print(classification_report(y_test,y_pred))\n",
    "clf.best_estimator_"
   ]
  },
  {
   "cell_type": "markdown",
   "metadata": {},
   "source": [
    "## KNN CLASSIFIER"
   ]
  },
  {
   "cell_type": "code",
   "execution_count": 81,
   "metadata": {},
   "outputs": [],
   "source": [
    "knn_classifier = KNeighborsClassifier().fit(x_train,y_train)"
   ]
  },
  {
   "cell_type": "code",
   "execution_count": 82,
   "metadata": {},
   "outputs": [],
   "source": [
    "knn_pred = knn_classifier.predict(x_test)"
   ]
  },
  {
   "cell_type": "code",
   "execution_count": 83,
   "metadata": {},
   "outputs": [
    {
     "name": "stdout",
     "output_type": "stream",
     "text": [
      "              precision    recall  f1-score   support\n",
      "\n",
      "           0       0.62      0.59      0.60     12879\n",
      "           1       0.73      0.76      0.74     18753\n",
      "\n",
      "    accuracy                           0.69     31632\n",
      "   macro avg       0.68      0.67      0.67     31632\n",
      "weighted avg       0.68      0.69      0.69     31632\n",
      "\n"
     ]
    }
   ],
   "source": [
    "print(classification_report(y_test, knn_pred))"
   ]
  },
  {
   "cell_type": "code",
   "execution_count": 84,
   "metadata": {},
   "outputs": [
    {
     "name": "stdout",
     "output_type": "stream",
     "text": [
      "0.687373545776429\n"
     ]
    }
   ],
   "source": [
    "print(accuracy_score(y_test,knn_pred))"
   ]
  },
  {
   "cell_type": "markdown",
   "metadata": {},
   "source": [
    "### Finding the best parameters"
   ]
  },
  {
   "cell_type": "code",
   "execution_count": 85,
   "metadata": {},
   "outputs": [
    {
     "name": "stdout",
     "output_type": "stream",
     "text": [
      "Fitting 10 folds for each of 1 candidates, totalling 10 fits\n"
     ]
    },
    {
     "name": "stderr",
     "output_type": "stream",
     "text": [
      "[Parallel(n_jobs=-1)]: Using backend LokyBackend with 4 concurrent workers.\n",
      "[Parallel(n_jobs=-1)]: Done   7 out of  10 | elapsed:  4.1min remaining:  1.7min\n",
      "[Parallel(n_jobs=-1)]: Done  10 out of  10 | elapsed:  5.1min finished\n"
     ]
    },
    {
     "data": {
      "text/plain": [
       "RandomizedSearchCV(cv=KFold(n_splits=10, random_state=None, shuffle=False),\n",
       "                   error_score=0, estimator=KNeighborsClassifier(), n_iter=1,\n",
       "                   n_jobs=-1,\n",
       "                   param_distributions={'algorithm': ['ball_tree', 'kd_tree'],\n",
       "                                        'n_neighbors': [5, 10, 15],\n",
       "                                        'weights': ['uniform', 'distance']},\n",
       "                   scoring='recall', verbose=3)"
      ]
     },
     "execution_count": 85,
     "metadata": {},
     "output_type": "execute_result"
    }
   ],
   "source": [
    "clf_KNN = KNeighborsClassifier()\n",
    "parameters = {'n_neighbors': [5,10,15],\n",
    "              'weights': ['uniform','distance'],\n",
    "              'algorithm': ['ball_tree','kd_tree']\n",
    "             }\n",
    "Folds = 10\n",
    "kfold_10 = KFold(n_splits= Folds, shuffle = False)\n",
    "\n",
    "clf = RandomizedSearchCV(clf_KNN, \n",
    "                         param_distributions = parameters,\n",
    "                         cv = kfold_10,  \n",
    "                         n_iter = 1,\n",
    "                         scoring = 'recall', \n",
    "                         error_score = 0, \n",
    "                         verbose = 3, \n",
    "                         n_jobs = -1)\n",
    "\n",
    "clf.fit(x_train, y_train)"
   ]
  },
  {
   "cell_type": "code",
   "execution_count": 86,
   "metadata": {},
   "outputs": [
    {
     "name": "stdout",
     "output_type": "stream",
     "text": [
      "              precision    recall  f1-score   support\n",
      "\n",
      "           0       0.62      0.59      0.61     12879\n",
      "           1       0.73      0.76      0.74     18753\n",
      "\n",
      "    accuracy                           0.69     31632\n",
      "   macro avg       0.68      0.67      0.67     31632\n",
      "weighted avg       0.69      0.69      0.69     31632\n",
      "\n"
     ]
    },
    {
     "data": {
      "text/plain": [
       "KNeighborsClassifier(algorithm='ball_tree', weights='distance')"
      ]
     },
     "execution_count": 86,
     "metadata": {},
     "output_type": "execute_result"
    }
   ],
   "source": [
    "y_pred = clf.predict(x_test)\n",
    "print(classification_report(y_test,y_pred))\n",
    "clf.best_estimator_"
   ]
  },
  {
   "cell_type": "markdown",
   "metadata": {},
   "source": [
    "##  RANDOM FOREST CLASSIFIER"
   ]
  },
  {
   "cell_type": "code",
   "execution_count": 80,
   "metadata": {},
   "outputs": [],
   "source": [
    "ran_for = RandomForestClassifier().fit(x_train,y_train)"
   ]
  },
  {
   "cell_type": "code",
   "execution_count": 81,
   "metadata": {},
   "outputs": [],
   "source": [
    "ranFor_pred = ran_for.predict(x_test)"
   ]
  },
  {
   "cell_type": "code",
   "execution_count": 82,
   "metadata": {},
   "outputs": [
    {
     "name": "stdout",
     "output_type": "stream",
     "text": [
      "              precision    recall  f1-score   support\n",
      "\n",
      "           0       0.66      0.64      0.65     12840\n",
      "           1       0.76      0.78      0.77     18792\n",
      "\n",
      "    accuracy                           0.72     31632\n",
      "   macro avg       0.71      0.71      0.71     31632\n",
      "weighted avg       0.72      0.72      0.72     31632\n",
      "\n"
     ]
    }
   ],
   "source": [
    "print(classification_report(y_test, ranFor_pred))"
   ]
  },
  {
   "cell_type": "markdown",
   "metadata": {},
   "source": [
    "### find the feature importances"
   ]
  },
  {
   "cell_type": "code",
   "execution_count": 83,
   "metadata": {},
   "outputs": [
    {
     "data": {
      "text/plain": [
       "array([0.11142281, 0.10996415, 0.11807768, 0.11481636, 0.0139886 ,\n",
       "       0.0505227 , 0.1353212 , 0.0088208 , 0.09550567, 0.01633157,\n",
       "       0.03254873, 0.09544368, 0.09723603])"
      ]
     },
     "execution_count": 83,
     "metadata": {},
     "output_type": "execute_result"
    }
   ],
   "source": [
    "ran_for.feature_importances_"
   ]
  },
  {
   "cell_type": "code",
   "execution_count": 84,
   "metadata": {},
   "outputs": [
    {
     "data": {
      "text/plain": [
       "<BarContainer object of 13 artists>"
      ]
     },
     "execution_count": 84,
     "metadata": {},
     "output_type": "execute_result"
    },
    {
     "data": {
      "image/png": "[encoded data removed]",
      "text/plain": [
       "<Figure size 432x288 with 1 Axes>"
      ]
     },
     "metadata": {
      "needs_background": "light"
     },
     "output_type": "display_data"
    }
   ],
   "source": [
    "importantFeatures = []\n",
    "theirValues =[]\n",
    "for index, value in enumerate(ran_for.feature_importances_):\n",
    "    importantFeatures.append(X.columns[index])\n",
    "    theirValues.append(value)\n",
    "\n",
    "plt.barh(importantFeatures,theirValues)"
   ]
  },
  {
   "cell_type": "code",
   "execution_count": 85,
   "metadata": {},
   "outputs": [
    {
     "name": "stdout",
     "output_type": "stream",
     "text": [
      "Fitting 10 folds for each of 1 candidates, totalling 10 fits\n"
     ]
    },
    {
     "name": "stderr",
     "output_type": "stream",
     "text": [
      "[Parallel(n_jobs=-1)]: Using backend LokyBackend with 4 concurrent workers.\n",
      "[Parallel(n_jobs=-1)]: Done   7 out of  10 | elapsed:  2.0min remaining:   52.5s\n",
      "[Parallel(n_jobs=-1)]: Done  10 out of  10 | elapsed:  2.6min finished\n"
     ]
    },
    {
     "data": {
      "text/plain": [
       "RandomizedSearchCV(cv=KFold(n_splits=10, random_state=None, shuffle=False),\n",
       "                   error_score=0, estimator=RandomForestClassifier(), n_iter=1,\n",
       "                   n_jobs=-1,\n",
       "                   param_distributions={'criterion': ['gini', 'entropy'],\n",
       "                                        'max_depth': [10, 15, 20],\n",
       "                                        'n_estimators': [50, 100, 150]},\n",
       "                   scoring='recall', verbose=3)"
      ]
     },
     "execution_count": 85,
     "metadata": {},
     "output_type": "execute_result"
    }
   ],
   "source": [
    "clf_RF = RandomForestClassifier()\n",
    "parameters = {'n_estimators': [50,100,150],\n",
    "              'criterion': ['gini','entropy'],\n",
    "              'max_depth': [10,15,20]\n",
    "             }\n",
    "Folds = 10\n",
    "kfold_10 = KFold(n_splits= Folds, shuffle = False)\n",
    "\n",
    "clf = RandomizedSearchCV(clf_RF, \n",
    "                         param_distributions = parameters,\n",
    "                         cv = kfold_10,  \n",
    "                         n_iter = 1,\n",
    "                         scoring = 'recall', \n",
    "                         error_score = 0, \n",
    "                         verbose = 3, \n",
    "                         n_jobs = -1)\n",
    "\n",
    "clf.fit(x_train, y_train)"
   ]
  },
  {
   "cell_type": "code",
   "execution_count": 86,
   "metadata": {},
   "outputs": [
    {
     "name": "stdout",
     "output_type": "stream",
     "text": [
      "              precision    recall  f1-score   support\n",
      "\n",
      "           0       0.68      0.65      0.66     12840\n",
      "           1       0.77      0.79      0.78     18792\n",
      "\n",
      "    accuracy                           0.73     31632\n",
      "   macro avg       0.72      0.72      0.72     31632\n",
      "weighted avg       0.73      0.73      0.73     31632\n",
      "\n"
     ]
    },
    {
     "data": {
      "text/plain": [
       "RandomForestClassifier(max_depth=15, n_estimators=150)"
      ]
     },
     "execution_count": 86,
     "metadata": {},
     "output_type": "execute_result"
    }
   ],
   "source": [
    "y_pred = clf.predict(x_test)\n",
    "print(classification_report(y_test,y_pred))\n",
    "clf.best_estimator_"
   ]
  },
  {
   "cell_type": "code",
   "execution_count": 87,
   "metadata": {},
   "outputs": [],
   "source": [
    "ran_for=clf.best_estimator_"
   ]
  },
  {
   "cell_type": "code",
   "execution_count": 88,
   "metadata": {},
   "outputs": [
    {
     "data": {
      "text/plain": [
       "<BarContainer object of 13 artists>"
      ]
     },
     "execution_count": 88,
     "metadata": {},
     "output_type": "execute_result"
    },
    {
     "data": {
      "image/png": "[encoded data removed]",
      "text/plain": [
       "<Figure size 432x288 with 1 Axes>"
      ]
     },
     "metadata": {
      "needs_background": "light"
     },
     "output_type": "display_data"
    }
   ],
   "source": [
    "ran_for = ran_for.fit(x_train,y_train)\n",
    "ranFor_pred = ran_for.predict(x_test)\n",
    "importantFeatures = []\n",
    "theirValues =[]\n",
    "for index, value in enumerate(ran_for.feature_importances_):\n",
    "    importantFeatures.append(X.columns[index])\n",
    "    theirValues.append(value)\n",
    "\n",
    "plt.barh(importantFeatures,theirValues)"
   ]
  },
  {
   "cell_type": "markdown",
   "metadata": {},
   "source": [
    "## GRADIENT BOOSTING CLASSIFIER"
   ]
  },
  {
   "cell_type": "code",
   "execution_count": 96,
   "metadata": {},
   "outputs": [],
   "source": [
    "GBC = GradientBoostingClassifier().fit(x_train,y_train)"
   ]
  },
  {
   "cell_type": "code",
   "execution_count": 97,
   "metadata": {},
   "outputs": [],
   "source": [
    "gbc_pred = GBC.predict(x_test)"
   ]
  },
  {
   "cell_type": "code",
   "execution_count": 98,
   "metadata": {},
   "outputs": [
    {
     "data": {
      "text/plain": [
       "2"
      ]
     },
     "execution_count": 98,
     "metadata": {},
     "output_type": "execute_result"
    }
   ],
   "source": [
    "GBC.n_classes_"
   ]
  },
  {
   "cell_type": "code",
   "execution_count": 99,
   "metadata": {},
   "outputs": [
    {
     "name": "stdout",
     "output_type": "stream",
     "text": [
      "              precision    recall  f1-score   support\n",
      "\n",
      "           0       0.67      0.64      0.65     12879\n",
      "           1       0.76      0.79      0.77     18753\n",
      "\n",
      "    accuracy                           0.73     31632\n",
      "   macro avg       0.72      0.71      0.71     31632\n",
      "weighted avg       0.72      0.73      0.72     31632\n",
      "\n"
     ]
    }
   ],
   "source": [
    "print(classification_report(y_test, ranFor_pred))"
   ]
  },
  {
   "cell_type": "code",
   "execution_count": 100,
   "metadata": {},
   "outputs": [
    {
     "name": "stdout",
     "output_type": "stream",
     "text": [
      "Fitting 10 folds for each of 1 candidates, totalling 10 fits\n"
     ]
    },
    {
     "name": "stderr",
     "output_type": "stream",
     "text": [
      "[Parallel(n_jobs=-1)]: Using backend LokyBackend with 4 concurrent workers.\n",
      "[Parallel(n_jobs=-1)]: Done   7 out of  10 | elapsed:  1.4min remaining:   35.5s\n",
      "[Parallel(n_jobs=-1)]: Done  10 out of  10 | elapsed:  1.8min finished\n"
     ]
    },
    {
     "data": {
      "text/plain": [
       "RandomizedSearchCV(cv=KFold(n_splits=10, random_state=None, shuffle=False),\n",
       "                   error_score=0, estimator=GradientBoostingClassifier(),\n",
       "                   n_iter=1, n_jobs=-1,\n",
       "                   param_distributions={'criterion': ['friedman_mse', 'mse'],\n",
       "                                        'learning_rate': [0.05, 0.5, 1.0],\n",
       "                                        'loss': ['deviance', 'exponential'],\n",
       "                                        'max_depth': [5, 6, 8],\n",
       "                                        'n_estimators': [10, 50],\n",
       "                                        'random_state': [1, 2, 5]},\n",
       "                   scoring='recall', verbose=3)"
      ]
     },
     "execution_count": 100,
     "metadata": {},
     "output_type": "execute_result"
    }
   ],
   "source": [
    "clf_gbc = GradientBoostingClassifier()\n",
    "parameters = {'n_estimators': [10,50],\n",
    "              'learning_rate': [0.05,0.5,1.0],\n",
    "              'loss': ['deviance','exponential'],\n",
    "              'max_depth': [5,6,8],\n",
    "              'random_state': [1,2,5],\n",
    "              'criterion': ['friedman_mse','mse']\n",
    "             }\n",
    "Folds = 10\n",
    "kfold_5 = KFold(n_splits= Folds, shuffle = False)\n",
    "\n",
    "clf = RandomizedSearchCV(clf_gbc, \n",
    "                         param_distributions = parameters,\n",
    "                         cv = kfold_5,  \n",
    "                         n_iter = 1,\n",
    "                         scoring = 'recall', \n",
    "                         error_score = 0, \n",
    "                         verbose = 3, \n",
    "                         n_jobs = -1)\n",
    "\n",
    "clf.fit(x_train, y_train)"
   ]
  },
  {
   "cell_type": "code",
   "execution_count": 101,
   "metadata": {},
   "outputs": [
    {
     "name": "stdout",
     "output_type": "stream",
     "text": [
      "              precision    recall  f1-score   support\n",
      "\n",
      "           0       0.66      0.64      0.65     12879\n",
      "           1       0.76      0.78      0.77     18753\n",
      "\n",
      "    accuracy                           0.72     31632\n",
      "   macro avg       0.71      0.71      0.71     31632\n",
      "weighted avg       0.72      0.72      0.72     31632\n",
      "\n"
     ]
    }
   ],
   "source": [
    "y_pred = clf.predict(x_test)\n",
    "print(classification_report(y_test,y_pred))"
   ]
  },
  {
   "cell_type": "code",
   "execution_count": 102,
   "metadata": {},
   "outputs": [
    {
     "data": {
      "text/plain": [
       "GradientBoostingClassifier(learning_rate=1.0, loss='exponential', max_depth=5,\n",
       "                           n_estimators=50, random_state=5)"
      ]
     },
     "execution_count": 102,
     "metadata": {},
     "output_type": "execute_result"
    }
   ],
   "source": [
    "clf.best_estimator_"
   ]
  },
  {
   "cell_type": "code",
   "execution_count": null,
   "metadata": {},
   "outputs": [],
   "source": []
  }
 ],
 "metadata": {
  "kernelspec": {
   "display_name": "Python 3",
   "language": "python",
   "name": "python3"
  },
  "language_info": {
   "codemirror_mode": {
    "name": "ipython",
    "version": 3
   },
   "file_extension": ".py",
   "mimetype": "text/x-python",
   "name": "python",
   "nbconvert_exporter": "python",
   "pygments_lexer": "ipython3",
   "version": "3.8.3"
  }
 },
 "nbformat": 4,
 "nbformat_minor": 4
}
